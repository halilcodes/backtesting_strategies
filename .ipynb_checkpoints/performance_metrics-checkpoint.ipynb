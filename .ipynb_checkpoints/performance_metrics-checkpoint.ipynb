{
 "cells": [
  {
   "cell_type": "code",
   "execution_count": 1,
   "id": "420dcee9-c3fb-4f3a-883f-89df41aa3814",
   "metadata": {},
   "outputs": [],
   "source": [
    "import pandas_datareader.data as pdr\n",
    "import pandas as pd\n",
    "import datetime as dt\n",
    "import math\n",
    "import yfinance as yfin\n",
    "\n",
    "\n",
    "yfin.pdr_override()"
   ]
  },
  {
   "cell_type": "code",
   "execution_count": 2,
   "id": "7a295bd8-beb2-4150-b204-f9e9a49f5705",
   "metadata": {},
   "outputs": [
    {
     "name": "stdout",
     "output_type": "stream",
     "text": [
      "[*********************100%%**********************]  1 of 1 completed\n"
     ]
    },
    {
     "data": {
      "text/html": [
       "<div>\n",
       "<style scoped>\n",
       "    .dataframe tbody tr th:only-of-type {\n",
       "        vertical-align: middle;\n",
       "    }\n",
       "\n",
       "    .dataframe tbody tr th {\n",
       "        vertical-align: top;\n",
       "    }\n",
       "\n",
       "    .dataframe thead th {\n",
       "        text-align: right;\n",
       "    }\n",
       "</style>\n",
       "<table border=\"1\" class=\"dataframe\">\n",
       "  <thead>\n",
       "    <tr style=\"text-align: right;\">\n",
       "      <th></th>\n",
       "      <th>Open</th>\n",
       "      <th>High</th>\n",
       "      <th>Low</th>\n",
       "      <th>Close</th>\n",
       "      <th>Adj Close</th>\n",
       "      <th>Volume</th>\n",
       "    </tr>\n",
       "    <tr>\n",
       "      <th>Date</th>\n",
       "      <th></th>\n",
       "      <th></th>\n",
       "      <th></th>\n",
       "      <th></th>\n",
       "      <th></th>\n",
       "      <th></th>\n",
       "    </tr>\n",
       "  </thead>\n",
       "  <tbody>\n",
       "    <tr>\n",
       "      <th>1927-12-30</th>\n",
       "      <td>17.660000</td>\n",
       "      <td>17.660000</td>\n",
       "      <td>17.660000</td>\n",
       "      <td>17.660000</td>\n",
       "      <td>17.660000</td>\n",
       "      <td>0</td>\n",
       "    </tr>\n",
       "    <tr>\n",
       "      <th>1928-01-03</th>\n",
       "      <td>17.760000</td>\n",
       "      <td>17.760000</td>\n",
       "      <td>17.760000</td>\n",
       "      <td>17.760000</td>\n",
       "      <td>17.760000</td>\n",
       "      <td>0</td>\n",
       "    </tr>\n",
       "    <tr>\n",
       "      <th>1928-01-04</th>\n",
       "      <td>17.719999</td>\n",
       "      <td>17.719999</td>\n",
       "      <td>17.719999</td>\n",
       "      <td>17.719999</td>\n",
       "      <td>17.719999</td>\n",
       "      <td>0</td>\n",
       "    </tr>\n",
       "    <tr>\n",
       "      <th>1928-01-05</th>\n",
       "      <td>17.549999</td>\n",
       "      <td>17.549999</td>\n",
       "      <td>17.549999</td>\n",
       "      <td>17.549999</td>\n",
       "      <td>17.549999</td>\n",
       "      <td>0</td>\n",
       "    </tr>\n",
       "    <tr>\n",
       "      <th>1928-01-06</th>\n",
       "      <td>17.660000</td>\n",
       "      <td>17.660000</td>\n",
       "      <td>17.660000</td>\n",
       "      <td>17.660000</td>\n",
       "      <td>17.660000</td>\n",
       "      <td>0</td>\n",
       "    </tr>\n",
       "    <tr>\n",
       "      <th>...</th>\n",
       "      <td>...</td>\n",
       "      <td>...</td>\n",
       "      <td>...</td>\n",
       "      <td>...</td>\n",
       "      <td>...</td>\n",
       "      <td>...</td>\n",
       "    </tr>\n",
       "    <tr>\n",
       "      <th>2023-09-01</th>\n",
       "      <td>4530.600098</td>\n",
       "      <td>4541.250000</td>\n",
       "      <td>4501.350098</td>\n",
       "      <td>4515.770020</td>\n",
       "      <td>4515.770020</td>\n",
       "      <td>3246260000</td>\n",
       "    </tr>\n",
       "    <tr>\n",
       "      <th>2023-09-05</th>\n",
       "      <td>4510.060059</td>\n",
       "      <td>4514.290039</td>\n",
       "      <td>4496.009766</td>\n",
       "      <td>4496.830078</td>\n",
       "      <td>4496.830078</td>\n",
       "      <td>3526250000</td>\n",
       "    </tr>\n",
       "    <tr>\n",
       "      <th>2023-09-06</th>\n",
       "      <td>4490.350098</td>\n",
       "      <td>4490.350098</td>\n",
       "      <td>4442.379883</td>\n",
       "      <td>4465.479980</td>\n",
       "      <td>4465.479980</td>\n",
       "      <td>3418850000</td>\n",
       "    </tr>\n",
       "    <tr>\n",
       "      <th>2023-09-07</th>\n",
       "      <td>4434.549805</td>\n",
       "      <td>4457.810059</td>\n",
       "      <td>4430.459961</td>\n",
       "      <td>4451.140137</td>\n",
       "      <td>4451.140137</td>\n",
       "      <td>3763760000</td>\n",
       "    </tr>\n",
       "    <tr>\n",
       "      <th>2023-09-08</th>\n",
       "      <td>4451.299805</td>\n",
       "      <td>4473.529785</td>\n",
       "      <td>4448.379883</td>\n",
       "      <td>4457.490234</td>\n",
       "      <td>4457.490234</td>\n",
       "      <td>3259290000</td>\n",
       "    </tr>\n",
       "  </tbody>\n",
       "</table>\n",
       "<p>24037 rows × 6 columns</p>\n",
       "</div>"
      ],
      "text/plain": [
       "                   Open         High          Low        Close    Adj Close  \\\n",
       "Date                                                                          \n",
       "1927-12-30    17.660000    17.660000    17.660000    17.660000    17.660000   \n",
       "1928-01-03    17.760000    17.760000    17.760000    17.760000    17.760000   \n",
       "1928-01-04    17.719999    17.719999    17.719999    17.719999    17.719999   \n",
       "1928-01-05    17.549999    17.549999    17.549999    17.549999    17.549999   \n",
       "1928-01-06    17.660000    17.660000    17.660000    17.660000    17.660000   \n",
       "...                 ...          ...          ...          ...          ...   \n",
       "2023-09-01  4530.600098  4541.250000  4501.350098  4515.770020  4515.770020   \n",
       "2023-09-05  4510.060059  4514.290039  4496.009766  4496.830078  4496.830078   \n",
       "2023-09-06  4490.350098  4490.350098  4442.379883  4465.479980  4465.479980   \n",
       "2023-09-07  4434.549805  4457.810059  4430.459961  4451.140137  4451.140137   \n",
       "2023-09-08  4451.299805  4473.529785  4448.379883  4457.490234  4457.490234   \n",
       "\n",
       "                Volume  \n",
       "Date                    \n",
       "1927-12-30           0  \n",
       "1928-01-03           0  \n",
       "1928-01-04           0  \n",
       "1928-01-05           0  \n",
       "1928-01-06           0  \n",
       "...                ...  \n",
       "2023-09-01  3246260000  \n",
       "2023-09-05  3526250000  \n",
       "2023-09-06  3418850000  \n",
       "2023-09-07  3763760000  \n",
       "2023-09-08  3259290000  \n",
       "\n",
       "[24037 rows x 6 columns]"
      ]
     },
     "execution_count": 2,
     "metadata": {},
     "output_type": "execute_result"
    }
   ],
   "source": [
    "start = dt.datetime(1900, 1, 29)\n",
    "end = dt.datetime.now()\n",
    "sp500 = pdr.get_data_yahoo('^GSPC', start, end)\n",
    "\n",
    "sp500"
   ]
  },
  {
   "cell_type": "code",
   "execution_count": 3,
   "id": "cfcf1996-0fca-4699-b95a-ac8c5cac8c29",
   "metadata": {},
   "outputs": [
    {
     "data": {
      "text/plain": [
       "Index(['Open', 'High', 'Low', 'Close', 'Adj Close', 'Volume'], dtype='object')"
      ]
     },
     "execution_count": 3,
     "metadata": {},
     "output_type": "execute_result"
    }
   ],
   "source": [
    "sp500.columns"
   ]
  },
  {
   "cell_type": "code",
   "execution_count": 4,
   "id": "bdb7deac-f80b-4df2-bf4f-75e700c061d1",
   "metadata": {},
   "outputs": [
    {
     "name": "stdout",
     "output_type": "stream",
     "text": [
      "<class 'pandas.core.frame.DataFrame'>\n",
      "DatetimeIndex: 24037 entries, 1927-12-30 to 2023-09-08\n",
      "Data columns (total 6 columns):\n",
      " #   Column     Non-Null Count  Dtype  \n",
      "---  ------     --------------  -----  \n",
      " 0   Open       24037 non-null  float64\n",
      " 1   High       24037 non-null  float64\n",
      " 2   Low        24037 non-null  float64\n",
      " 3   Close      24037 non-null  float64\n",
      " 4   Adj Close  24037 non-null  float64\n",
      " 5   Volume     24037 non-null  int64  \n",
      "dtypes: float64(5), int64(1)\n",
      "memory usage: 1.3 MB\n"
     ]
    }
   ],
   "source": [
    "sp500.info()"
   ]
  },
  {
   "cell_type": "code",
   "execution_count": 5,
   "id": "2a50d1c0-2046-4485-aeeb-6d106aa0182a",
   "metadata": {},
   "outputs": [
    {
     "data": {
      "text/html": [
       "<div>\n",
       "<style scoped>\n",
       "    .dataframe tbody tr th:only-of-type {\n",
       "        vertical-align: middle;\n",
       "    }\n",
       "\n",
       "    .dataframe tbody tr th {\n",
       "        vertical-align: top;\n",
       "    }\n",
       "\n",
       "    .dataframe thead th {\n",
       "        text-align: right;\n",
       "    }\n",
       "</style>\n",
       "<table border=\"1\" class=\"dataframe\">\n",
       "  <thead>\n",
       "    <tr style=\"text-align: right;\">\n",
       "      <th></th>\n",
       "      <th>value</th>\n",
       "      <th>pct_change</th>\n",
       "    </tr>\n",
       "    <tr>\n",
       "      <th>Date</th>\n",
       "      <th></th>\n",
       "      <th></th>\n",
       "    </tr>\n",
       "  </thead>\n",
       "  <tbody>\n",
       "    <tr>\n",
       "      <th>1927-12-30</th>\n",
       "      <td>17.660000</td>\n",
       "      <td>NaN</td>\n",
       "    </tr>\n",
       "    <tr>\n",
       "      <th>1928-01-03</th>\n",
       "      <td>17.760000</td>\n",
       "      <td>0.005663</td>\n",
       "    </tr>\n",
       "    <tr>\n",
       "      <th>1928-01-04</th>\n",
       "      <td>17.719999</td>\n",
       "      <td>-0.002252</td>\n",
       "    </tr>\n",
       "    <tr>\n",
       "      <th>1928-01-05</th>\n",
       "      <td>17.549999</td>\n",
       "      <td>-0.009594</td>\n",
       "    </tr>\n",
       "    <tr>\n",
       "      <th>1928-01-06</th>\n",
       "      <td>17.660000</td>\n",
       "      <td>0.006268</td>\n",
       "    </tr>\n",
       "    <tr>\n",
       "      <th>...</th>\n",
       "      <td>...</td>\n",
       "      <td>...</td>\n",
       "    </tr>\n",
       "    <tr>\n",
       "      <th>2023-09-01</th>\n",
       "      <td>4515.770020</td>\n",
       "      <td>0.001799</td>\n",
       "    </tr>\n",
       "    <tr>\n",
       "      <th>2023-09-05</th>\n",
       "      <td>4496.830078</td>\n",
       "      <td>-0.004194</td>\n",
       "    </tr>\n",
       "    <tr>\n",
       "      <th>2023-09-06</th>\n",
       "      <td>4465.479980</td>\n",
       "      <td>-0.006972</td>\n",
       "    </tr>\n",
       "    <tr>\n",
       "      <th>2023-09-07</th>\n",
       "      <td>4451.140137</td>\n",
       "      <td>-0.003211</td>\n",
       "    </tr>\n",
       "    <tr>\n",
       "      <th>2023-09-08</th>\n",
       "      <td>4457.490234</td>\n",
       "      <td>0.001427</td>\n",
       "    </tr>\n",
       "  </tbody>\n",
       "</table>\n",
       "<p>24037 rows × 2 columns</p>\n",
       "</div>"
      ],
      "text/plain": [
       "                  value  pct_change\n",
       "Date                               \n",
       "1927-12-30    17.660000         NaN\n",
       "1928-01-03    17.760000    0.005663\n",
       "1928-01-04    17.719999   -0.002252\n",
       "1928-01-05    17.549999   -0.009594\n",
       "1928-01-06    17.660000    0.006268\n",
       "...                 ...         ...\n",
       "2023-09-01  4515.770020    0.001799\n",
       "2023-09-05  4496.830078   -0.004194\n",
       "2023-09-06  4465.479980   -0.006972\n",
       "2023-09-07  4451.140137   -0.003211\n",
       "2023-09-08  4457.490234    0.001427\n",
       "\n",
       "[24037 rows x 2 columns]"
      ]
     },
     "execution_count": 5,
     "metadata": {},
     "output_type": "execute_result"
    }
   ],
   "source": [
    "sp500_calc = sp500[['Adj Close']]\n",
    "sp500_calc = sp500_calc.rename(columns={'Adj Close': 'value'})  # change column name to value\n",
    "sp500_calc['pct_change'] = sp500_calc['value'].pct_change()\n",
    "sp500_calc"
   ]
  },
  {
   "cell_type": "code",
   "execution_count": 6,
   "id": "68a78f2d-7ecb-4782-b461-896d752e6ba6",
   "metadata": {},
   "outputs": [
    {
     "data": {
      "text/html": [
       "<div>\n",
       "<style scoped>\n",
       "    .dataframe tbody tr th:only-of-type {\n",
       "        vertical-align: middle;\n",
       "    }\n",
       "\n",
       "    .dataframe tbody tr th {\n",
       "        vertical-align: top;\n",
       "    }\n",
       "\n",
       "    .dataframe thead th {\n",
       "        text-align: right;\n",
       "    }\n",
       "</style>\n",
       "<table border=\"1\" class=\"dataframe\">\n",
       "  <thead>\n",
       "    <tr style=\"text-align: right;\">\n",
       "      <th></th>\n",
       "      <th>value</th>\n",
       "      <th>pct_change</th>\n",
       "      <th>cum_return</th>\n",
       "    </tr>\n",
       "    <tr>\n",
       "      <th>Date</th>\n",
       "      <th></th>\n",
       "      <th></th>\n",
       "      <th></th>\n",
       "    </tr>\n",
       "  </thead>\n",
       "  <tbody>\n",
       "    <tr>\n",
       "      <th>1927-12-30</th>\n",
       "      <td>17.660000</td>\n",
       "      <td>NaN</td>\n",
       "      <td>NaN</td>\n",
       "    </tr>\n",
       "    <tr>\n",
       "      <th>1928-01-03</th>\n",
       "      <td>17.760000</td>\n",
       "      <td>0.005663</td>\n",
       "      <td>1.005663</td>\n",
       "    </tr>\n",
       "    <tr>\n",
       "      <th>1928-01-04</th>\n",
       "      <td>17.719999</td>\n",
       "      <td>-0.002252</td>\n",
       "      <td>1.003397</td>\n",
       "    </tr>\n",
       "    <tr>\n",
       "      <th>1928-01-05</th>\n",
       "      <td>17.549999</td>\n",
       "      <td>-0.009594</td>\n",
       "      <td>0.993771</td>\n",
       "    </tr>\n",
       "    <tr>\n",
       "      <th>1928-01-06</th>\n",
       "      <td>17.660000</td>\n",
       "      <td>0.006268</td>\n",
       "      <td>1.000000</td>\n",
       "    </tr>\n",
       "    <tr>\n",
       "      <th>...</th>\n",
       "      <td>...</td>\n",
       "      <td>...</td>\n",
       "      <td>...</td>\n",
       "    </tr>\n",
       "    <tr>\n",
       "      <th>2023-09-01</th>\n",
       "      <td>4515.770020</td>\n",
       "      <td>0.001799</td>\n",
       "      <td>255.706119</td>\n",
       "    </tr>\n",
       "    <tr>\n",
       "      <th>2023-09-05</th>\n",
       "      <td>4496.830078</td>\n",
       "      <td>-0.004194</td>\n",
       "      <td>254.633642</td>\n",
       "    </tr>\n",
       "    <tr>\n",
       "      <th>2023-09-06</th>\n",
       "      <td>4465.479980</td>\n",
       "      <td>-0.006972</td>\n",
       "      <td>252.858438</td>\n",
       "    </tr>\n",
       "    <tr>\n",
       "      <th>2023-09-07</th>\n",
       "      <td>4451.140137</td>\n",
       "      <td>-0.003211</td>\n",
       "      <td>252.046443</td>\n",
       "    </tr>\n",
       "    <tr>\n",
       "      <th>2023-09-08</th>\n",
       "      <td>4457.490234</td>\n",
       "      <td>0.001427</td>\n",
       "      <td>252.406018</td>\n",
       "    </tr>\n",
       "  </tbody>\n",
       "</table>\n",
       "<p>24037 rows × 3 columns</p>\n",
       "</div>"
      ],
      "text/plain": [
       "                  value  pct_change  cum_return\n",
       "Date                                           \n",
       "1927-12-30    17.660000         NaN         NaN\n",
       "1928-01-03    17.760000    0.005663    1.005663\n",
       "1928-01-04    17.719999   -0.002252    1.003397\n",
       "1928-01-05    17.549999   -0.009594    0.993771\n",
       "1928-01-06    17.660000    0.006268    1.000000\n",
       "...                 ...         ...         ...\n",
       "2023-09-01  4515.770020    0.001799  255.706119\n",
       "2023-09-05  4496.830078   -0.004194  254.633642\n",
       "2023-09-06  4465.479980   -0.006972  252.858438\n",
       "2023-09-07  4451.140137   -0.003211  252.046443\n",
       "2023-09-08  4457.490234    0.001427  252.406018\n",
       "\n",
       "[24037 rows x 3 columns]"
      ]
     },
     "execution_count": 6,
     "metadata": {},
     "output_type": "execute_result"
    }
   ],
   "source": [
    "sp500_calc['cum_return'] = (1 + sp500_calc['pct_change']).cumprod()\n",
    "sp500_calc"
   ]
  },
  {
   "cell_type": "code",
   "execution_count": 7,
   "id": "6dc94366-bb64-42c7-a6ac-42275b116146",
   "metadata": {},
   "outputs": [
    {
     "data": {
      "text/plain": [
       "95.69062286105407"
      ]
     },
     "execution_count": 7,
     "metadata": {},
     "output_type": "execute_result"
    }
   ],
   "source": [
    "total_ret = sp500_calc['cum_return'][-1]\n",
    "start = dt.datetime(1970, 1, 1) + dt.timedelta(seconds=sp500_calc.index[0].timestamp())\n",
    "end =  dt.datetime(1970, 1, 1) + dt.timedelta(seconds=sp500_calc.index[-1].timestamp())\n",
    "period_days = (end - start).days\n",
    "period_years = period_days / 365.25\n",
    "period_years"
   ]
  },
  {
   "cell_type": "code",
   "execution_count": 8,
   "id": "b2aca8b8-9ff6-4198-b818-fae0f4b60478",
   "metadata": {},
   "outputs": [
    {
     "data": {
      "text/plain": [
       "5.950441331665135"
      ]
     },
     "execution_count": 8,
     "metadata": {},
     "output_type": "execute_result"
    }
   ],
   "source": [
    "CAGR = (total_ret)**(1/period_years)-1\n",
    "CAGR*100"
   ]
  },
  {
   "cell_type": "markdown",
   "id": "50c73606-f17b-4d1d-927c-3de9dfea49e3",
   "metadata": {},
   "source": [
    "# Including Dividends"
   ]
  },
  {
   "cell_type": "code",
   "execution_count": 9,
   "id": "dc944c97-a521-4725-9406-f36841dda8ed",
   "metadata": {},
   "outputs": [],
   "source": [
    "# actions = pdr.DataReader('^GSPC', 'yahoo-actions', start, end)  # not working\n",
    "# actions.head()"
   ]
  },
  {
   "cell_type": "code",
   "execution_count": 10,
   "id": "d33c20c6-37ae-4f51-9884-62d3093ed5ca",
   "metadata": {},
   "outputs": [
    {
     "data": {
      "text/html": [
       "<div>\n",
       "<style scoped>\n",
       "    .dataframe tbody tr th:only-of-type {\n",
       "        vertical-align: middle;\n",
       "    }\n",
       "\n",
       "    .dataframe tbody tr th {\n",
       "        vertical-align: top;\n",
       "    }\n",
       "\n",
       "    .dataframe thead th {\n",
       "        text-align: right;\n",
       "    }\n",
       "</style>\n",
       "<table border=\"1\" class=\"dataframe\">\n",
       "  <thead>\n",
       "    <tr style=\"text-align: right;\">\n",
       "      <th></th>\n",
       "      <th>Date</th>\n",
       "      <th>Value</th>\n",
       "    </tr>\n",
       "  </thead>\n",
       "  <tbody>\n",
       "    <tr>\n",
       "      <th>0</th>\n",
       "      <td>Sep 8, 2023</td>\n",
       "      <td>1.54%</td>\n",
       "    </tr>\n",
       "    <tr>\n",
       "      <th>1</th>\n",
       "      <td>Sep 30, 2023</td>\n",
       "      <td>1.52%</td>\n",
       "    </tr>\n",
       "    <tr>\n",
       "      <th>2</th>\n",
       "      <td>Aug 31, 2023</td>\n",
       "      <td>1.54%</td>\n",
       "    </tr>\n",
       "    <tr>\n",
       "      <th>3</th>\n",
       "      <td>Jul 31, 2023</td>\n",
       "      <td>1.52%</td>\n",
       "    </tr>\n",
       "    <tr>\n",
       "      <th>4</th>\n",
       "      <td>Jun 30, 2023</td>\n",
       "      <td>1.58%</td>\n",
       "    </tr>\n",
       "  </tbody>\n",
       "</table>\n",
       "</div>"
      ],
      "text/plain": [
       "           Date  Value\n",
       "0   Sep 8, 2023  1.54%\n",
       "1  Sep 30, 2023  1.52%\n",
       "2  Aug 31, 2023  1.54%\n",
       "3  Jul 31, 2023  1.52%\n",
       "4  Jun 30, 2023  1.58%"
      ]
     },
     "execution_count": 10,
     "metadata": {},
     "output_type": "execute_result"
    }
   ],
   "source": [
    "sp500_dividend = pd.read_csv(\"data/multpl/s-p-500-dividend-yield.csv\")\n",
    "sp500_dividend.head(5)"
   ]
  },
  {
   "cell_type": "code",
   "execution_count": 11,
   "id": "3ec7946d-4aef-4c3c-bd61-e9716c1e278d",
   "metadata": {},
   "outputs": [
    {
     "name": "stdout",
     "output_type": "stream",
     "text": [
      "<class 'pandas.core.frame.DataFrame'>\n",
      "RangeIndex: 1834 entries, 0 to 1833\n",
      "Data columns (total 2 columns):\n",
      " #   Column  Non-Null Count  Dtype \n",
      "---  ------  --------------  ----- \n",
      " 0   Date    1834 non-null   object\n",
      " 1   Value   1834 non-null   object\n",
      "dtypes: object(2)\n",
      "memory usage: 28.8+ KB\n"
     ]
    }
   ],
   "source": [
    "sp500_dividend.info()"
   ]
  },
  {
   "cell_type": "code",
   "execution_count": 12,
   "id": "2c1088ea-0421-4515-8c24-215166f98018",
   "metadata": {},
   "outputs": [
    {
     "data": {
      "text/plain": [
       "Date     datetime64[ns]\n",
       "Value            object\n",
       "dtype: object"
      ]
     },
     "execution_count": 12,
     "metadata": {},
     "output_type": "execute_result"
    }
   ],
   "source": [
    "sp500_dividend['Date'] = sp500_dividend['Date'].astype('<M8[ns]')\n",
    "sp500_dividend.dtypes"
   ]
  },
  {
   "cell_type": "code",
   "execution_count": 13,
   "id": "d4614ef2-3437-45a6-8e9e-5e43c2636340",
   "metadata": {},
   "outputs": [
    {
     "data": {
      "text/plain": [
       "Date     datetime64[ns]\n",
       "Value           float64\n",
       "dtype: object"
      ]
     },
     "execution_count": 13,
     "metadata": {},
     "output_type": "execute_result"
    }
   ],
   "source": [
    "sp500_dividend['Value'] = sp500_dividend['Value'].str.replace('%', '')\n",
    "sp500_dividend['Value'] = sp500_dividend['Value'].astype('float')\n",
    "sp500_dividend['Value'] = sp500_dividend['Value'] / 100\n",
    "sp500_dividend.dtypes"
   ]
  },
  {
   "cell_type": "code",
   "execution_count": 14,
   "id": "cbc24f24-536e-4f33-85ce-ecf3a7131ad4",
   "metadata": {},
   "outputs": [
    {
     "data": {
      "text/html": [
       "<div>\n",
       "<style scoped>\n",
       "    .dataframe tbody tr th:only-of-type {\n",
       "        vertical-align: middle;\n",
       "    }\n",
       "\n",
       "    .dataframe tbody tr th {\n",
       "        vertical-align: top;\n",
       "    }\n",
       "\n",
       "    .dataframe thead th {\n",
       "        text-align: right;\n",
       "    }\n",
       "</style>\n",
       "<table border=\"1\" class=\"dataframe\">\n",
       "  <thead>\n",
       "    <tr style=\"text-align: right;\">\n",
       "      <th></th>\n",
       "      <th>Date</th>\n",
       "      <th>Value</th>\n",
       "    </tr>\n",
       "  </thead>\n",
       "  <tbody>\n",
       "    <tr>\n",
       "      <th>116</th>\n",
       "      <td>2014-02-28</td>\n",
       "      <td>0.0197</td>\n",
       "    </tr>\n",
       "    <tr>\n",
       "      <th>317</th>\n",
       "      <td>1997-05-31</td>\n",
       "      <td>0.0182</td>\n",
       "    </tr>\n",
       "    <tr>\n",
       "      <th>864</th>\n",
       "      <td>1951-10-31</td>\n",
       "      <td>0.0635</td>\n",
       "    </tr>\n",
       "    <tr>\n",
       "      <th>1613</th>\n",
       "      <td>1889-05-31</td>\n",
       "      <td>0.0424</td>\n",
       "    </tr>\n",
       "    <tr>\n",
       "      <th>1459</th>\n",
       "      <td>1902-03-31</td>\n",
       "      <td>0.0393</td>\n",
       "    </tr>\n",
       "  </tbody>\n",
       "</table>\n",
       "</div>"
      ],
      "text/plain": [
       "           Date   Value\n",
       "116  2014-02-28  0.0197\n",
       "317  1997-05-31  0.0182\n",
       "864  1951-10-31  0.0635\n",
       "1613 1889-05-31  0.0424\n",
       "1459 1902-03-31  0.0393"
      ]
     },
     "execution_count": 14,
     "metadata": {},
     "output_type": "execute_result"
    }
   ],
   "source": [
    "sp500_dividend.sample(5)"
   ]
  },
  {
   "cell_type": "code",
   "execution_count": 15,
   "id": "4ca134d2-81f2-41fb-88c2-9c3b80f847d8",
   "metadata": {},
   "outputs": [],
   "source": [
    "sp500_dividend = sp500_dividend.set_index('Date').rename(columns={'Value':'dividend_yield'})"
   ]
  },
  {
   "cell_type": "code",
   "execution_count": 16,
   "id": "9399aaa6-9c0d-42ba-a7cf-33312df3e555",
   "metadata": {},
   "outputs": [
    {
     "data": {
      "text/html": [
       "<div>\n",
       "<style scoped>\n",
       "    .dataframe tbody tr th:only-of-type {\n",
       "        vertical-align: middle;\n",
       "    }\n",
       "\n",
       "    .dataframe tbody tr th {\n",
       "        vertical-align: top;\n",
       "    }\n",
       "\n",
       "    .dataframe thead th {\n",
       "        text-align: right;\n",
       "    }\n",
       "</style>\n",
       "<table border=\"1\" class=\"dataframe\">\n",
       "  <thead>\n",
       "    <tr style=\"text-align: right;\">\n",
       "      <th></th>\n",
       "      <th>dividend_yield</th>\n",
       "    </tr>\n",
       "    <tr>\n",
       "      <th>Date</th>\n",
       "      <th></th>\n",
       "    </tr>\n",
       "  </thead>\n",
       "  <tbody>\n",
       "    <tr>\n",
       "      <th>2023-09-08</th>\n",
       "      <td>0.0154</td>\n",
       "    </tr>\n",
       "    <tr>\n",
       "      <th>2023-09-30</th>\n",
       "      <td>0.0152</td>\n",
       "    </tr>\n",
       "    <tr>\n",
       "      <th>2023-08-31</th>\n",
       "      <td>0.0154</td>\n",
       "    </tr>\n",
       "    <tr>\n",
       "      <th>2023-07-31</th>\n",
       "      <td>0.0152</td>\n",
       "    </tr>\n",
       "    <tr>\n",
       "      <th>2023-06-30</th>\n",
       "      <td>0.0158</td>\n",
       "    </tr>\n",
       "  </tbody>\n",
       "</table>\n",
       "</div>"
      ],
      "text/plain": [
       "            dividend_yield\n",
       "Date                      \n",
       "2023-09-08          0.0154\n",
       "2023-09-30          0.0152\n",
       "2023-08-31          0.0154\n",
       "2023-07-31          0.0152\n",
       "2023-06-30          0.0158"
      ]
     },
     "execution_count": 16,
     "metadata": {},
     "output_type": "execute_result"
    }
   ],
   "source": [
    "sp500_dividend.head(5)"
   ]
  },
  {
   "cell_type": "code",
   "execution_count": null,
   "id": "84eb6f46-104d-41b1-9154-5fcdcf924543",
   "metadata": {},
   "outputs": [],
   "source": []
  }
 ],
 "metadata": {
  "kernelspec": {
   "display_name": "Python 3 (ipykernel)",
   "language": "python",
   "name": "python3"
  },
  "language_info": {
   "codemirror_mode": {
    "name": "ipython",
    "version": 3
   },
   "file_extension": ".py",
   "mimetype": "text/x-python",
   "name": "python",
   "nbconvert_exporter": "python",
   "pygments_lexer": "ipython3",
   "version": "3.11.3"
  }
 },
 "nbformat": 4,
 "nbformat_minor": 5
}
