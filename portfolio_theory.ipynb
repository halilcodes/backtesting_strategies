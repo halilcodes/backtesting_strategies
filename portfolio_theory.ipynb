{
 "cells": [
  {
   "cell_type": "code",
   "execution_count": 7,
   "id": "6a378f21-a869-4730-a2e9-f1022a03619f",
   "metadata": {},
   "outputs": [],
   "source": [
    "import pandas as pd\n",
    "import pandas_datareader.data as pdr\n",
    "import datetime as dt\n",
    "import math\n",
    "import yfinance as yf\n",
    "import matplotlib.pyplot as plt\n",
    "\n",
    "yf.pdr_override()"
   ]
  },
  {
   "cell_type": "code",
   "execution_count": 3,
   "id": "b7586674-a368-4377-963e-471ee15000a6",
   "metadata": {},
   "outputs": [],
   "source": [
    "def cagr(_df):\n",
    "    df = _df.copy()\n",
    "    df = df.sort_index(ascending=True)\n",
    "    df[\"cum_return\"] = (1 + df[\"return\"]).cumprod()\n",
    "    total_ret = df['cum_return'][-1]\n",
    "    start = datetime.utcfromtimestamp(df.index.values[0].astype('O')/1e9)\n",
    "    end = datetime.utcfromtimestamp(df.index.values[-1].astype('O')/1e9)\n",
    "    period_years = (end - start).days / 365.25\n",
    "    CAGR = (total_ret)**(1/period_years) - 1\n",
    "    return CAGR"
   ]
  },
  {
   "cell_type": "code",
   "execution_count": 4,
   "id": "8ac144a1-09a8-4c2e-a558-2c1e511b281f",
   "metadata": {},
   "outputs": [],
   "source": [
    "def volatility(_df):\n",
    "    start = datetime.utcfromtimestamp(_df.index.values[0].astype('O')/1e9)\n",
    "    end = datetime.utcfromtimestamp(_df.index.values[-1].astype('O')/1e9)\n",
    "    period_years = (end - start).days / 365.25\n",
    "    ratio_to_annual = _df['return'].count() / period_years\n",
    "    vol = _df[\"return\"].std() * math.sqrt(ratio_to_annual)\n",
    "    return vol"
   ]
  },
  {
   "cell_type": "code",
   "execution_count": 5,
   "id": "469936f8-dfbc-482e-9c39-52817aede425",
   "metadata": {},
   "outputs": [],
   "source": [
    "def sharpe(_df, risk_free_rate):\n",
    "    ret = cagr(_df)\n",
    "    vol = volatility(_df)\n",
    "    sharpe = (ret - risk_free_rate) / vol\n",
    "    return sharpe"
   ]
  },
  {
   "cell_type": "code",
   "execution_count": 6,
   "id": "2d02bec7-c7b1-4eda-bf23-fc8049860f32",
   "metadata": {},
   "outputs": [],
   "source": [
    "def max_drawdown(_df):\n",
    "    df = _df.copy()\n",
    "    df = df.sort_index(ascending=True)\n",
    "    df[\"cum_return\"] = (1 + df[\"return\"]).cumprod()\n",
    "    df[\"cum_return_max\"] = df[\"cum_return\"].cummax()\n",
    "    df[\"drawdown\"] = df[\"cum_return_max\"] - df[\"cum_return\"]\n",
    "    df[\"drawdown_pct\"] = df[\"drawdown\"] / df[\"cum_return_max\"]\n",
    "    max_dd = df.loc[df[\"drawdown_pct\"].idxmax()]\n",
    "    return {\n",
    "        'drawdown': max_dd['drawdown_pct'],\n",
    "        'date': max_dd.name\n",
    "    }"
   ]
  },
  {
   "cell_type": "code",
   "execution_count": null,
   "id": "077f522a-c6ef-4823-be60-7dcf1fba62f7",
   "metadata": {},
   "outputs": [],
   "source": []
  }
 ],
 "metadata": {
  "kernelspec": {
   "display_name": "Python 3 (ipykernel)",
   "language": "python",
   "name": "python3"
  },
  "language_info": {
   "codemirror_mode": {
    "name": "ipython",
    "version": 3
   },
   "file_extension": ".py",
   "mimetype": "text/x-python",
   "name": "python",
   "nbconvert_exporter": "python",
   "pygments_lexer": "ipython3",
   "version": "3.11.3"
  }
 },
 "nbformat": 4,
 "nbformat_minor": 5
}
